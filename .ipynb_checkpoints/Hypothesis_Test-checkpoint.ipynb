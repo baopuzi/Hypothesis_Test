{
 "cells": [
  {
   "cell_type": "markdown",
   "metadata": {},
   "source": [
    "##### 假设检验"
   ]
  },
  {
   "cell_type": "markdown",
   "metadata": {},
   "source": [
    "批判性思维：对信息理性分析和判断的能力。\n",
    "建立批判性思维的方法之一：假设检验。"
   ]
  },
  {
   "cell_type": "markdown",
   "metadata": {
    "collapsed": true
   },
   "source": [
    "如何践行描述统计分析，假设检验的步骤：</br>\n",
    "\n",
    "1）问题是什么；</br>\n",
    "零假设、备选假设。</br>\n",
    "\n",
    "2）证据是什么；</br>\n",
    "零假设成立时，得到样本平均值的概率：p值。</br>\n",
    "\n",
    "3）判断标准是什么；</br>\n",
    "显著水平α（可以取0.1%，1%，5%）</br>\n",
    "\n",
    "4）做出结论。</br>\n",
    "p<=α时，拒绝零假设，即备选假设成立；p>α时，接受零假设。</br>"
   ]
  },
  {
   "cell_type": "markdown",
   "metadata": {},
   "source": [
    "假设检验的三种类型：</br>\n",
    "\n",
    "1.单样本检验，目的是 检验单个样本的平均值是否等于目标值，如某大学的学生平均身高是否大于全国平均升高167.1cm？</br>\n",
    "\n",
    "2.相关配对检验，目的是 检验相关或配对观测之差的平均值是否等于目标值，如为了检验减肥药是否起作用，随机抽取20名测试对象，记录每个人服药前后的体重。</br>\n",
    "相关配对检验缺陷：有残留效应。</br>\n",
    "\n",
    "3.独立双样本检验，目的是 检验两个独立样本的平均值之差是否等于目标值，如检验闯关游戏教学方法是否有效，分别对两组学生进行效果测试。弥补了残留效应，但是耗时耗资源。"
   ]
  },
  {
   "cell_type": "markdown",
   "metadata": {},
   "source": [
    "##### 抽样分布：当样本的大小>=30，抽样分布（符合中心极限定理）服从正态分布；当样本的大小 <30时，（若总体近似正态分布）服从t分布，或服从其它分布。</br>\n",
    "\n",
    "抽样分布的类型不同，决定了假设检验计算概率值的不同。</br>"
   ]
  },
  {
   "cell_type": "markdown",
   "metadata": {},
   "source": [
    "seaborn绘图包的displot方法可以很容易得到数据集的直方图和拟合曲线"
   ]
  },
  {
   "cell_type": "markdown",
   "metadata": {},
   "source": [
    "分类数据，一般使用柱状图（bar plot）</br>\n",
    "\n",
    "查看数据集的分布情况，数值是连续的，一般使用直方图（histogram）"
   ]
  },
  {
   "cell_type": "markdown",
   "metadata": {},
   "source": [
    "##### 描述统计分析"
   ]
  },
  {
   "cell_type": "code",
   "execution_count": 2,
   "metadata": {
    "collapsed": true
   },
   "outputs": [],
   "source": [
    "import pandas as pd\n",
    "import numpy as np\n",
    "import matplotlib.pyplot as plt"
   ]
  },
  {
   "cell_type": "code",
   "execution_count": 3,
   "metadata": {},
   "outputs": [
    {
     "name": "stdout",
     "output_type": "stream",
     "text": [
      "平均值： 17.169999999999998\n",
      "标准差： 2.9814426038413018\n"
     ]
    }
   ],
   "source": [
    "#样本数据集\n",
    "dataSer=pd.Series([15.6,16.2,22.5,20.5,16.4,19.4,16.6,17.9,12.7,13.9])\n",
    "#样本平均值\n",
    "sample_mean=dataSer.mean()\n",
    "#样本标准差，pandas计算的标准差分母是n-1，是用来估计总体的标准差\n",
    "sample_std=dataSer.std()\n",
    "print('平均值：',sample_mean)\n",
    "print('标准差：',sample_std)"
   ]
  },
  {
   "cell_type": "markdown",
   "metadata": {},
   "source": [
    "问题：以上样本，公司引擎排放是否满足新标准。\n",
    "零假设：公司引擎排放不满足标准，即平均值>=20\n",
    "备选假设：平均值<20"
   ]
  },
  {
   "cell_type": "code",
   "execution_count": 4,
   "metadata": {},
   "outputs": [
    {
     "name": "stderr",
     "output_type": "stream",
     "text": [
      "C:\\ProgramData\\Anaconda3\\lib\\site-packages\\matplotlib\\axes\\_axes.py:6462: UserWarning: The 'normed' kwarg is deprecated, and has been replaced by the 'density' kwarg.\n",
      "  warnings.warn(\"The 'normed' kwarg is deprecated, and has been \"\n"
     ]
    },
    {
     "data": {
      "image/png": "[encoded data removed]",
      "text/plain": [
       "<Figure size 432x288 with 1 Axes>"
      ]
     },
     "metadata": {},
     "output_type": "display_data"
    }
   ],
   "source": [
    "#查看数据集的分布情况\n",
    "import seaborn as sns\n",
    "sns.distplot(dataSer)\n",
    "plt.show()\n",
    "#可以看出 样本呈现近似正态分布，可以推测总体也是近似正态分布，从而得到抽样分布服从t分布（确定检验类型：满足t分布的使用条件），自由度=n-1"
   ]
  },
  {
   "cell_type": "markdown",
   "metadata": {},
   "source": [
    "单尾检验：检验的判断标准是落在抽样分布的左侧还是右侧，具体在那一侧取决于备选假设。备选检验是小于号则是左尾，备选检验是大于号则是右尾。</br>\n",
    "双尾检验：就是将判断标准一分为二，位于抽样分布的两侧，左右各占一半的判断标准，即α/2。如果备选假设包含不等于，则属于双尾检验。</br>"
   ]
  },
  {
   "cell_type": "markdown",
   "metadata": {},
   "source": [
    "###### 以上是描述统计分析的第一步——问题是什么：</br>\n",
    "1.零假设、备选假设</br>\n",
    "\n",
    "2.检验类型</br>\n",
    "\n",
    "3.抽样分布类型</br>\n",
    "\n",
    "4.检验方向。</br>\n",
    "\n",
    "以上得出，引擎抽样 本次假设检验是单样本t检验，单尾检验中的左尾。</br>"
   ]
  },
  {
   "cell_type": "markdown",
   "metadata": {},
   "source": [
    "###### 统计学就是个P-Value</br>\n",
    "\n",
    "p值是在假定零假设成立的前提下，得到样本平均值的概率是多少。（单尾检验的p值是双尾检验p值的一半）</br>\n",
    "\n",
    "知乎解释：P值就是当原假设为真时，根据样本观察结果计算的检验统计量落入拒绝域的概率。如果P值很小，说明这种情况的发生的概率很小，而如果出现了，根据小概率原理，我们就有理由拒绝原假设，P值越小，我们拒绝原假设的理由越充分。</br>"
   ]
  },
  {
   "cell_type": "markdown",
   "metadata": {},
   "source": [
    "如何计算p值：（可以手动计算，也可以用python计算）</br>\n",
    "当抽样分布是t分布时：</br>\n",
    "\n",
    "1.计算标准误差=样本标准差/(n^(1/2))</br>\n",
    "\n",
    "2.计算t值=（样本平均值-总体平均值）/标准误差   t值表示样本平均值距离总体平均值多少个标准误差</br>\n",
    "\n",
    "3.根据t值，查找t表格，得到p</br>"
   ]
  },
  {
   "cell_type": "code",
   "execution_count": 5,
   "metadata": {},
   "outputs": [
    {
     "data": {
      "text/plain": [
       "0.9428149341201592"
      ]
     },
     "execution_count": 5,
     "metadata": {},
     "output_type": "execute_result"
    }
   ],
   "source": [
    "#样本大小\n",
    "n=10\n",
    "#标准误差=样本标准差/（n的开方）\n",
    "se=sample_std/(np.sqrt(n))\n",
    "se"
   ]
  },
  {
   "cell_type": "code",
   "execution_count": 6,
   "metadata": {},
   "outputs": [
    {
     "data": {
      "text/plain": [
       "-3.001649525885985"
      ]
     },
     "execution_count": 6,
     "metadata": {},
     "output_type": "execute_result"
    }
   ],
   "source": [
    "#总体平均值：就是政府发布的标准20\n",
    "pop_mean=20\n",
    "#求t值\n",
    "t=(sample_mean-pop_mean)/se\n",
    "t"
   ]
  },
  {
   "cell_type": "code",
   "execution_count": 7,
   "metadata": {
    "collapsed": true
   },
   "outputs": [],
   "source": [
    "#导入统计模块stats\n",
    "from scipy import stats\n",
    "#总体平均值\n",
    "n=20\n",
    "'''\n",
    "ttest_1samp方法表示单独样本t检验\n",
    "返回的第一个值t是假设检验计算出的t值\n",
    "第二个值p是双尾检验的p值\n",
    "'''\n",
    "t,p_2tail=stats.ttest_1samp(dataSer,pop_mean)"
   ]
  },
  {
   "cell_type": "code",
   "execution_count": 8,
   "metadata": {},
   "outputs": [
    {
     "data": {
      "text/plain": [
       "0.0074582071244487635"
      ]
     },
     "execution_count": 8,
     "metadata": {},
     "output_type": "execute_result"
    }
   ],
   "source": [
    "#得到单尾检验的p值\n",
    "p_1tail=p_2tail/2\n",
    "p_1tail"
   ]
  },
  {
   "cell_type": "code",
   "execution_count": 9,
   "metadata": {
    "collapsed": true
   },
   "outputs": [],
   "source": [
    "#在零假设成立的前提下，得到样本平均值的概率。\n",
    "#假设汽车引擎满足排放标准20，得到样本平均值的概率是0.0074"
   ]
  },
  {
   "cell_type": "markdown",
   "metadata": {},
   "source": [
    "###### 以上是描述统计分析的第二步——证据是什么：得到p值，零假设成立的前提下，得到样本平均值的概率是？"
   ]
  },
  {
   "cell_type": "markdown",
   "metadata": {},
   "source": [
    "###### 描述统计分析的第三步 判断标准是什么：建立判断标准检验证据是否有效。</br>\n",
    "给定判断标准即显著水平是5%。因为祖师爷推荐用5%，所以就用5%。</br>"
   ]
  },
  {
   "cell_type": "markdown",
   "metadata": {
    "collapsed": true
   },
   "source": [
    "p<=α，拒绝零假设，也就是备选假设成立。p>α，接受零假设。</br>"
   ]
  },
  {
   "cell_type": "code",
   "execution_count": 10,
   "metadata": {},
   "outputs": [
    {
     "name": "stdout",
     "output_type": "stream",
     "text": [
      "拒绝零假设，有统计显著，也就是汽车引擎排放满足标准\n"
     ]
    }
   ],
   "source": [
    "a=0.05\n",
    "'''\n",
    "左尾判断条件：t<0 and p<=判断标准（显著水平）α\n",
    "右尾判断条件：t>0 and p<=判断标准（显著水平）α\n",
    "'''\n",
    "#做出结论\n",
    "if (t<0 and p_1tail<a):\n",
    "    #左尾判断条件\n",
    "    print('拒绝零假设，有统计显著，也就是汽车引擎排放满足标准')\n",
    "else:\n",
    "    print('接受零假设，没有统计显著，也就是汽车引擎排放不满足标准')"
   ]
  },
  {
   "cell_type": "markdown",
   "metadata": {},
   "source": [
    "#注意以上结论中，统计显著不等于效果显著。</br>"
   ]
  },
  {
   "cell_type": "markdown",
   "metadata": {},
   "source": [
    "##### 使用APA（美国统计协会）格式来报告假设检验的结果。</br>\n",
    "\n",
    "假设检验APA的格式：检验类型(自由度)=检验类型的值是x.xx,p=.xx(α=.xx),检验方向：</br>\n",
    "\n",
    "单样本t(9)=-3.00,p=0.0074(α=5%),单位检验（左尾）</br>"
   ]
  },
  {
   "cell_type": "markdown",
   "metadata": {},
   "source": [
    "###### 推论统计报告还需要给出置信区间</br>\n",
    "\n",
    "置信区间计算过程中的t值还需套与前面假设检验中t分布的t值，区分开。</br>"
   ]
  },
  {
   "cell_type": "markdown",
   "metadata": {},
   "source": [
    "置信水平95%是指置信区间[a,b]的面基是95%</br>\n",
    "\n",
    "a=样本平均值-t_ci*标准误差</br>\n",
    "\n",
    "b=样本平均值+t_ci*标准误差</br>"
   ]
  },
  {
   "cell_type": "code",
   "execution_count": 11,
   "metadata": {},
   "outputs": [
    {
     "name": "stdout",
     "output_type": "stream",
     "text": [
      "单个平均值的置信区间\n",
      "95%置信水平 CI=[17.11,17.23]\n"
     ]
    }
   ],
   "source": [
    "'''\n",
    "查找t表格获取\n",
    "95的置信水平，自由度是n-1对应的t值\n",
    "'''\n",
    "t_ci=0.0645\n",
    "#使用scipy计算标准误差\n",
    "se=stats.sem(dataSer)\n",
    "#置信区间上限\n",
    "a=sample_mean-t_ci*se\n",
    "#置信区间下限\n",
    "b=sample_mean+t_ci*se\n",
    "print('单个平均值的置信区间\\n95%置信水平 CI=[{0:.2f},{1:.2f}]'.format(a,b))"
   ]
  },
  {
   "cell_type": "markdown",
   "metadata": {},
   "source": [
    "以上在报告置信区间的时候也要提供三个信息：置信区间类型 置信水平 置信区间"
   ]
  },
  {
   "cell_type": "markdown",
   "metadata": {},
   "source": [
    "##### 在报告中还需要给出效应量：差异的大小</br>\n",
    "\n",
    "衡量效应量：差异指标 相关度指标</br>\n",
    "\n",
    "1.差异指标</br>\n",
    "\n",
    "Cohen's d=(第一组平均值-第二组平均值)/标准差  (注意d是求绝对值)</br>\n",
    "\n",
    "d=0.2 效果显著（差异大小）：小</br>\n",
    "\n",
    "d=0.5 效果显著（差异大小）：中</br>\n",
    "\n",
    "d=0.8 效果显著（差异大小）：大</br>\n",
    "\n",
    "2.相关度指标</br>\n",
    "R^2=t^2/(t^2+df)  （t表示假设检验的值，df表示自由度）</br>\n",
    "\n",
    "R^2=0.1    效果显著（差异大小）：小</br>\n",
    "\n",
    "R^2=0.09   效果显著（差异大小）：中</br>\n",
    "\n",
    "R^2=0.25   效果显著（差异大小）：大</br>\n",
    "\n",
    "##### 在假设检验中需要同时用统计显著和效果显著来一起判断研究结果是否有意义。</br>"
   ]
  },
  {
   "cell_type": "markdown",
   "metadata": {},
   "source": [
    "对以上这个案例的单样本t检验</br>\n",
    "\n",
    "Cohen's d=(样本平均值-总体平均值)/（样本标准差）</br>"
   ]
  },
  {
   "cell_type": "code",
   "execution_count": 12,
   "metadata": {},
   "outputs": [
    {
     "name": "stdout",
     "output_type": "stream",
     "text": [
      "效应量报告格式：\n",
      "d=-0.95\n"
     ]
    }
   ],
   "source": [
    "# 效应量：差异指标Cohen's d\n",
    "d=(sample_mean-pop_mean)/sample_std\n",
    "print('效应量报告格式：\\nd={0:.2f}'.format(d))"
   ]
  },
  {
   "cell_type": "markdown",
   "metadata": {},
   "source": [
    "以上表示样本平均值和总体平均值相差0.95个标准差。</br>"
   ]
  },
  {
   "cell_type": "raw",
   "metadata": {},
   "source": [
    "推论统计分析报告：描述统计分析报告+推论统计分析报告</br>\n",
    "\n",
    "推论统计分析报告：</br>\n",
    "1.假设检验：统计是否显著（描述是否有差异）</br>\n",
    "2.置信区间</br>\n",
    "3.效应量：效果是否显著（描述差异大小）</br>\n",
    "\n",
    "在假设检验中，当拒绝了零假设，则是统计显著（公司引擎排放和规定标准有差异），再去看效果显著（差异有多大）。</br>\n",
    "如果没有拒绝零假设，则表明没有差异，进而不需要看效果是否显著（差异量大小）。</br>\n",
    "用假设检验来看统计效果是否显著（是否有差异），进而看效果是否显著（差异大小）。</br>"
   ]
  },
  {
   "cell_type": "raw",
   "metadata": {},
   "source": [
    "####  汽车引擎排放分析报告如下</br>\n",
    "1.描述统计分析</br>\n",
    "样本平均值17.77ppm，样本标准差2.98ppm</br>\n",
    "2.推论统计分析</br>\n",
    "1）假设检验</br>\n",
    "独立样本t(9)=-3.00，p=0.0074(α=5%)，单尾检验（左尾）</br>\n",
    "公司引擎排放满足标准</br>\n",
    "2）置信区间</br>\n",
    "平均值的置信区间，95% CI=[17.11,17.23]</br>\n",
    "3）效应量</br>\n",
    "d=-0.94</br>"
   ]
  },
  {
   "cell_type": "markdown",
   "metadata": {},
   "source": [
    "### 以上是单样本假设检验的一个案例（汽车引擎排放抽样）</br>"
   ]
  },
  {
   "cell_type": "markdown",
   "metadata": {},
   "source": [
    "### 以下是假设检验的第二种，相关配对检验案例。\n",
    "心理学现象：特鲁普效应  展示了人们对事物的认知过程"
   ]
  },
  {
   "cell_type": "raw",
   "metadata": {},
   "source": [
    "新刺激的特征和原刺激的特征相似或者相一致的情况下，会加速人的认知。</br>\n",
    "如果新的刺激与原刺激的特征不相同或不一致的情况下，会干扰人的认知，使人的反应时间变长。</br>\n",
    "例如：字体内容和颜色一致，阅读速度快；字体内容和颜色不一致，阅读速度慢。</br>"
   ]
  },
  {
   "cell_type": "markdown",
   "metadata": {},
   "source": [
    "###### 特路普效应之描述统计分析："
   ]
  },
  {
   "cell_type": "code",
   "execution_count": 13,
   "metadata": {
    "collapsed": true
   },
   "outputs": [],
   "source": [
    "#导入包\n",
    "import numpy as np\n",
    "import pandas as pd\n",
    "import matplotlib.pyplot as plt"
   ]
  },
  {
   "cell_type": "code",
   "execution_count": 14,
   "metadata": {},
   "outputs": [
    {
     "data": {
      "text/html": [
       "<div>\n",
       "<style>\n",
       "    .dataframe thead tr:only-child th {\n",
       "        text-align: right;\n",
       "    }\n",
       "\n",
       "    .dataframe thead th {\n",
       "        text-align: left;\n",
       "    }\n",
       "\n",
       "    .dataframe tbody tr th {\n",
       "        vertical-align: top;\n",
       "    }\n",
       "</style>\n",
       "<table border=\"1\" class=\"dataframe\">\n",
       "  <thead>\n",
       "    <tr style=\"text-align: right;\">\n",
       "      <th></th>\n",
       "      <th>Congruent</th>\n",
       "      <th>Incongruent</th>\n",
       "    </tr>\n",
       "  </thead>\n",
       "  <tbody>\n",
       "    <tr>\n",
       "      <th>0</th>\n",
       "      <td>12.079</td>\n",
       "      <td>19.278</td>\n",
       "    </tr>\n",
       "    <tr>\n",
       "      <th>1</th>\n",
       "      <td>16.791</td>\n",
       "      <td>18.741</td>\n",
       "    </tr>\n",
       "    <tr>\n",
       "      <th>2</th>\n",
       "      <td>9.564</td>\n",
       "      <td>21.214</td>\n",
       "    </tr>\n",
       "    <tr>\n",
       "      <th>3</th>\n",
       "      <td>8.630</td>\n",
       "      <td>15.687</td>\n",
       "    </tr>\n",
       "    <tr>\n",
       "      <th>4</th>\n",
       "      <td>14.669</td>\n",
       "      <td>22.803</td>\n",
       "    </tr>\n",
       "  </tbody>\n",
       "</table>\n",
       "</div>"
      ],
      "text/plain": [
       "   Congruent  Incongruent\n",
       "0     12.079       19.278\n",
       "1     16.791       18.741\n",
       "2      9.564       21.214\n",
       "3      8.630       15.687\n",
       "4     14.669       22.803"
      ]
     },
     "execution_count": 14,
     "metadata": {},
     "output_type": "execute_result"
    }
   ],
   "source": [
    "#如果文件数据中有中文，则使用‘GBK’编码\n",
    "data=pd.read_csv('./data/StroopEffectData.csv',encoding='GBK')\n",
    "data.head()"
   ]
  },
  {
   "cell_type": "code",
   "execution_count": 15,
   "metadata": {},
   "outputs": [
    {
     "data": {
      "text/html": [
       "<div>\n",
       "<style>\n",
       "    .dataframe thead tr:only-child th {\n",
       "        text-align: right;\n",
       "    }\n",
       "\n",
       "    .dataframe thead th {\n",
       "        text-align: left;\n",
       "    }\n",
       "\n",
       "    .dataframe tbody tr th {\n",
       "        vertical-align: top;\n",
       "    }\n",
       "</style>\n",
       "<table border=\"1\" class=\"dataframe\">\n",
       "  <thead>\n",
       "    <tr style=\"text-align: right;\">\n",
       "      <th></th>\n",
       "      <th>Congruent</th>\n",
       "      <th>Incongruent</th>\n",
       "    </tr>\n",
       "  </thead>\n",
       "  <tbody>\n",
       "    <tr>\n",
       "      <th>count</th>\n",
       "      <td>24.000000</td>\n",
       "      <td>24.000000</td>\n",
       "    </tr>\n",
       "    <tr>\n",
       "      <th>mean</th>\n",
       "      <td>13.926875</td>\n",
       "      <td>22.350750</td>\n",
       "    </tr>\n",
       "    <tr>\n",
       "      <th>std</th>\n",
       "      <td>3.540219</td>\n",
       "      <td>5.010218</td>\n",
       "    </tr>\n",
       "    <tr>\n",
       "      <th>min</th>\n",
       "      <td>8.630000</td>\n",
       "      <td>15.687000</td>\n",
       "    </tr>\n",
       "    <tr>\n",
       "      <th>25%</th>\n",
       "      <td>11.895250</td>\n",
       "      <td>18.716750</td>\n",
       "    </tr>\n",
       "    <tr>\n",
       "      <th>50%</th>\n",
       "      <td>13.627500</td>\n",
       "      <td>21.046000</td>\n",
       "    </tr>\n",
       "    <tr>\n",
       "      <th>75%</th>\n",
       "      <td>15.671250</td>\n",
       "      <td>24.536000</td>\n",
       "    </tr>\n",
       "    <tr>\n",
       "      <th>max</th>\n",
       "      <td>22.328000</td>\n",
       "      <td>35.255000</td>\n",
       "    </tr>\n",
       "  </tbody>\n",
       "</table>\n",
       "</div>"
      ],
      "text/plain": [
       "       Congruent  Incongruent\n",
       "count  24.000000    24.000000\n",
       "mean   13.926875    22.350750\n",
       "std     3.540219     5.010218\n",
       "min     8.630000    15.687000\n",
       "25%    11.895250    18.716750\n",
       "50%    13.627500    21.046000\n",
       "75%    15.671250    24.536000\n",
       "max    22.328000    35.255000"
      ]
     },
     "execution_count": 15,
     "metadata": {},
     "output_type": "execute_result"
    }
   ],
   "source": [
    "#使用pandas的describe方法可以方便地获取数据集的描述统计信息\n",
    "data.describe()"
   ]
  },
  {
   "cell_type": "code",
   "execution_count": 21,
   "metadata": {
    "collapsed": true
   },
   "outputs": [],
   "source": [
    "'''\n",
    "第一组数据：字体内容和颜色一致的情况，实验者的反应时间\n",
    "'''\n",
    "#第一组数据平均值\n",
    "con1_mean=data['Congruent'].mean()\n",
    "#第一组数据标准差\n",
    "con1_std=data['Congruent'].std()"
   ]
  },
  {
   "cell_type": "code",
   "execution_count": 17,
   "metadata": {
    "collapsed": true
   },
   "outputs": [],
   "source": [
    "'''\n",
    "第二组数据：字体内容和颜色不一致的情况，实验者的反应时间\n",
    "'''\n",
    "#第二组数据平均值\n",
    "con2_mean=data['Incongruent'].mean()\n",
    "#第二组数据标准差\n",
    "con2_std=data['Incongruent'].std()"
   ]
  },
  {
   "cell_type": "code",
   "execution_count": 20,
   "metadata": {},
   "outputs": [
    {
     "data": {
      "image/png": "[encoded data removed]",
      "text/plain": [
       "<Figure size 720x432 with 1 Axes>"
      ]
     },
     "metadata": {},
     "output_type": "display_data"
    }
   ],
   "source": [
    "#画板\n",
    "fg=plt.figure(figsize=(10,6))\n",
    "#画纸\n",
    "ax1=fg.add_subplot(1,1,1)\n",
    "#绘制柱状图\n",
    "data.plot(kind='bar',ax=ax1)\n",
    "plt.title('StroopTest')\n",
    "plt.xlabel('Group')\n",
    "plt.ylabel('Time')\n",
    "#显示图形\n",
    "plt.show()"
   ]
  },
  {
   "cell_type": "markdown",
   "metadata": {},
   "source": [
    "##### 下面通过假设检验进一步验证这个现象"
   ]
  },
  {
   "cell_type": "raw",
   "metadata": {},
   "source": [
    "1.问题是什么：</br>\n",
    "1）零假设：特鲁普效应不存在，即第一组的平均值=第二组的平均值</br>\n",
    "  备选假设：特鲁普效应存在，即第一组的平均值<第二组的平均值</br>\n",
    "2）检验类型：相关配对检验，即检验相关或配对观测之差的平均值是否等于目标值。</br>\n",
    "\n",
    "3）抽样分布类型：t分布</br>\n",
    "4）检验方向：左尾检验</br>"
   ]
  },
  {
   "cell_type": "code",
   "execution_count": 24,
   "metadata": {},
   "outputs": [
    {
     "data": {
      "text/html": [
       "<div>\n",
       "<style>\n",
       "    .dataframe thead tr:only-child th {\n",
       "        text-align: right;\n",
       "    }\n",
       "\n",
       "    .dataframe thead th {\n",
       "        text-align: left;\n",
       "    }\n",
       "\n",
       "    .dataframe tbody tr th {\n",
       "        vertical-align: top;\n",
       "    }\n",
       "</style>\n",
       "<table border=\"1\" class=\"dataframe\">\n",
       "  <thead>\n",
       "    <tr style=\"text-align: right;\">\n",
       "      <th></th>\n",
       "      <th>Congruent</th>\n",
       "      <th>Incongruent</th>\n",
       "      <th>dif</th>\n",
       "    </tr>\n",
       "  </thead>\n",
       "  <tbody>\n",
       "    <tr>\n",
       "      <th>0</th>\n",
       "      <td>12.079</td>\n",
       "      <td>19.278</td>\n",
       "      <td>-7.199</td>\n",
       "    </tr>\n",
       "    <tr>\n",
       "      <th>1</th>\n",
       "      <td>16.791</td>\n",
       "      <td>18.741</td>\n",
       "      <td>-1.950</td>\n",
       "    </tr>\n",
       "    <tr>\n",
       "      <th>2</th>\n",
       "      <td>9.564</td>\n",
       "      <td>21.214</td>\n",
       "      <td>-11.650</td>\n",
       "    </tr>\n",
       "    <tr>\n",
       "      <th>3</th>\n",
       "      <td>8.630</td>\n",
       "      <td>15.687</td>\n",
       "      <td>-7.057</td>\n",
       "    </tr>\n",
       "    <tr>\n",
       "      <th>4</th>\n",
       "      <td>14.669</td>\n",
       "      <td>22.803</td>\n",
       "      <td>-8.134</td>\n",
       "    </tr>\n",
       "  </tbody>\n",
       "</table>\n",
       "</div>"
      ],
      "text/plain": [
       "   Congruent  Incongruent     dif\n",
       "0     12.079       19.278  -7.199\n",
       "1     16.791       18.741  -1.950\n",
       "2      9.564       21.214 -11.650\n",
       "3      8.630       15.687  -7.057\n",
       "4     14.669       22.803  -8.134"
      ]
     },
     "execution_count": 24,
     "metadata": {},
     "output_type": "execute_result"
    }
   ],
   "source": [
    "#通过第一组数据减去第二组数据得到差值数据集，这样就可以得到独立样本的数据集，可以进行独立样本检验。\n",
    "#差值数据集：（后续所有的计算都是针对这个差值数据集）\n",
    "data['dif']=data['Congruent']-data['Incongruent']\n",
    "data.head()"
   ]
  },
  {
   "cell_type": "code",
   "execution_count": 25,
   "metadata": {},
   "outputs": [
    {
     "name": "stderr",
     "output_type": "stream",
     "text": [
      "C:\\ProgramData\\Anaconda3\\lib\\site-packages\\matplotlib\\axes\\_axes.py:6462: UserWarning: The 'normed' kwarg is deprecated, and has been replaced by the 'density' kwarg.\n",
      "  warnings.warn(\"The 'normed' kwarg is deprecated, and has been \"\n"
     ]
    },
    {
     "data": {
      "image/png": "[encoded data removed]",
      "text/plain": [
       "<Figure size 432x288 with 1 Axes>"
      ]
     },
     "metadata": {},
     "output_type": "display_data"
    }
   ],
   "source": [
    "#判断抽样分布的类型\n",
    "import seaborn as sns\n",
    "sns.distplot(data['dif'])\n",
    "plt.title('dif distribution')\n",
    "plt.show()"
   ]
  },
  {
   "cell_type": "markdown",
   "metadata": {},
   "source": [
    "#####  如上可以看出差值数据集近似正态分布，可以推断出总体数据近似正态分布，从而得到：抽样分布（差值数据集）服从t分布\n",
    "#####  备选假设可以看作是，差值数据集（样本）的平均值小于0。因此是左尾检验。"
   ]
  },
  {
   "cell_type": "markdown",
   "metadata": {},
   "source": [
    "### 假设检验第二步：证据是什么？"
   ]
  },
  {
   "cell_type": "code",
   "execution_count": 41,
   "metadata": {},
   "outputs": [
    {
     "name": "stdout",
     "output_type": "stream",
     "text": [
      "t值等于-8.09,单尾检验的p值是1.7743595748624577e-08\n"
     ]
    }
   ],
   "source": [
    "#导入统计模块\n",
    "from scipy import stats\n",
    "'''\n",
    "ttest_rel方法用于相关配对检验\n",
    "返回的第一个值t是假设检验计算出的t值\n",
    "第二个值p是双尾检验的p值\n",
    "'''\n",
    "t,t_2tail=stats.ttest_rel(data['Congruent'],data['Incongruent'])\n",
    "print('t值等于{0:.2f},单尾检验的p值是{1}'.format(t,t_2tail/2))"
   ]
  },
  {
   "cell_type": "markdown",
   "metadata": {},
   "source": [
    "### 假设检验第三步：判断标准是什么？"
   ]
  },
  {
   "cell_type": "code",
   "execution_count": 75,
   "metadata": {},
   "outputs": [
    {
     "name": "stdout",
     "output_type": "stream",
     "text": [
      "有统计差异，拒绝零假设。即接受备选假设：存在特鲁普效应\n"
     ]
    }
   ],
   "source": [
    "'''\n",
    "根据对称性原理双尾的p值是单尾p值的2倍\n",
    "左尾判断条件：t<0 and p/2<α\n",
    "右尾判断条件：t>0 and p/2<α\n",
    "'''\n",
    "#单尾检验的p值\n",
    "p_1tail=p_2tail/2\n",
    "#显著水平\n",
    "a=0.05\n",
    "if(t<0 and p_1tail<a):\n",
    "    print('有统计差异，拒绝零假设。即接受备选假设：存在特鲁普效应')\n",
    "else:\n",
    "    print('没有统计差异，接受零假设。即不存在特鲁普效应')"
   ]
  },
  {
   "cell_type": "markdown",
   "metadata": {},
   "source": [
    "### 结论"
   ]
  },
  {
   "cell_type": "markdown",
   "metadata": {},
   "source": [
    "判断标准：取显著水平alpha=5%\n",
    "\n",
    "结论：相关配对检验t(23)=-8.08\n",
    "\n",
    "p=1.77e-08(α=5%)  单尾检验（左尾）\n",
    "\n",
    "统计上存在显著差异，拒绝零假设，从而验证特鲁普效应存在。"
   ]
  },
  {
   "cell_type": "markdown",
   "metadata": {},
   "source": [
    "### 计算置信区间"
   ]
  },
  {
   "cell_type": "code",
   "execution_count": 84,
   "metadata": {},
   "outputs": [
    {
     "name": "stdout",
     "output_type": "stream",
     "text": [
      "两个平均值差值的置信区间\n",
      "95%的置信水平 CI=[-8.49,-8.36]\n"
     ]
    }
   ],
   "source": [
    "'''\n",
    "查找t表格获取\n",
    "95%的置信水平，自由度是n-1对应的t值\n",
    "'''\n",
    "t_ci=0.0634\n",
    "#差值数据集平均值\n",
    "sample_mean=data['dif'].mean()\n",
    "#使用scipy计算标准误差\n",
    "se=stats.sem(data['dif'])\n",
    "#置信区间上限\n",
    "a=sample_mean-t_ci*se\n",
    "#置信区间下限\n",
    "b=sample_mean+t_ci*se\n",
    "print('两个平均值差值的置信区间\\n95%的置信水平 CI=[{0:.2f},{1:.2f}]'.format(a,b))"
   ]
  },
  {
   "cell_type": "markdown",
   "metadata": {},
   "source": [
    "### 相关配对检验 效应量\n",
    "Cohen's d=(样本平均值-总体平均值)/样本标准差 "
   ]
  },
  {
   "cell_type": "code",
   "execution_count": 93,
   "metadata": {},
   "outputs": [
    {
     "name": "stdout",
     "output_type": "stream",
     "text": [
      "效应量大小是：-1.65\n"
     ]
    }
   ],
   "source": [
    "'''\n",
    "效应量：差异指标Cohen's d\n",
    "'''\n",
    "#差值数据集对应的总体平均值是0\n",
    "pop_mean=0\n",
    "#差值数据集的标准差\n",
    "sample_std=data['dif'].std()\n",
    "d=(sample_mean-pop_mean)/sample_std\n",
    "print('效应量大小是：{0:.2f}'.format(d))"
   ]
  },
  {
   "cell_type": "markdown",
   "metadata": {},
   "source": [
    "###### 以上可见显著差异大"
   ]
  },
  {
   "cell_type": "raw",
   "metadata": {},
   "source": [
    "统计分析报告：</br>\n",
    "1.描述统计分析</br>\n",
    "第一组样本数据：字体内容和字体颜色一致，平均反应时间是：13.92秒，标准差时间是3.54秒。</br>\n",
    "第二组样本数据：字体内容和字体颜色不一致，平均时间是：22.35秒，标准差时间是5.01秒。</br>\n",
    "2.推论统计分析</br>\n",
    "1）假设检验</br>\n",
    "相关配对检验t(23)=-8.08, p=1.77e-08(α=5%)，左尾检验</br>\n",
    "统计差异显著，拒绝零假设。从而接受备选假设，验证特鲁普效应存在。</br>\n",
    "2）置信区间</br>\n",
    "差值平均值的置信区间，</br>\n",
    "95%的置信水平 CI=[-8.49,-8.36]</br>\n",
    "3)效应量</br>\n",
    "d=-1.65</br>\n",
    "差异大</br>"
   ]
  }
 ],
 "metadata": {
  "kernelspec": {
   "display_name": "Python 3",
   "language": "python",
   "name": "python3"
  },
  "language_info": {
   "codemirror_mode": {
    "name": "ipython",
    "version": 3
   },
   "file_extension": ".py",
   "mimetype": "text/x-python",
   "name": "python",
   "nbconvert_exporter": "python",
   "pygments_lexer": "ipython3",
   "version": "3.6.3"
  }
 },
 "nbformat": 4,
 "nbformat_minor": 2
}
